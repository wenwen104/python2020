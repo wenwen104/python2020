{
  "nbformat": 4,
  "nbformat_minor": 0,
  "metadata": {
    "colab": {
      "name": "20201204.ipynb",
      "provenance": [],
      "authorship_tag": "ABX9TyNo7FLVXCPqD1jZF149Cs6W",
      "include_colab_link": true
    },
    "kernelspec": {
      "name": "python3",
      "display_name": "Python 3"
    }
  },
  "cells": [
    {
      "cell_type": "markdown",
      "metadata": {
        "id": "view-in-github",
        "colab_type": "text"
      },
      "source": [
        "<a href=\"https://colab.research.google.com/github/wenwen104/python2020/blob/main/20201204.ipynb\" target=\"_parent\"><img src=\"https://colab.research.google.com/assets/colab-badge.svg\" alt=\"Open In Colab\"/></a>"
      ]
    },
    {
      "cell_type": "code",
      "metadata": {
        "colab": {
          "base_uri": "https://localhost:8080/"
        },
        "id": "l9L6WkuJc209",
        "outputId": "3f166c51-821b-43a3-a6b2-240b6261b52d"
      },
      "source": [
        "import pandas as pd\n",
        "print(\"pandas version: %s\" % pd.__version__)\n",
        "\n",
        "import matplotlib\n",
        "print(\"matplotlib version: %s\" % matplotlib.__version__)\n",
        "\n",
        "import numpy as np\n",
        "print(\"numpy version: %s\" % np.__version__)\n",
        "\n",
        "import sklearn\n",
        "print(\"scikit-learn version: %s\" % sklearn.__version__)\n",
        "\n",
        "import tensorflow as tf\n",
        "print(\"tensorflow version: %s\" % tf.__version__)\n",
        "\n",
        "import torch\n",
        "print(\"PyTorch version: %s\" %torch.__version__)\n",
        "print(\"2020年3月PyTorch version最新版本 是1.4 請參閱https://pytorch.org/\")"
      ],
      "execution_count": 1,
      "outputs": [
        {
          "output_type": "stream",
          "text": [
            "pandas version: 1.1.4\n",
            "matplotlib version: 3.2.2\n",
            "numpy version: 1.18.5\n",
            "scikit-learn version: 0.22.2.post1\n",
            "tensorflow version: 2.3.0\n",
            "PyTorch version: 1.7.0+cu101\n",
            "2020年3月PyTorch version最新版本 是1.4 請參閱https://pytorch.org/\n"
          ],
          "name": "stdout"
        }
      ]
    },
    {
      "cell_type": "markdown",
      "metadata": {
        "id": "JK4irh0Lc5xS"
      },
      "source": [
        "##筆記 2020 1204\n",
        "\n",
        "#軟體套件載入方法\n",
        "\n",
        "```\n",
        "\n",
        "使用　\n",
        "\n",
        "import\n",
        "\n",
        "pandas(套件)　pd(小名)\n",
        "\n",
        "使用方法 : pd.xxxx\n",
        "\n",
        "matplotlib(套件) \n",
        "使用方法 : matplotlib.xxxx\n",
        "\n",
        "numpy(套件) np(小名)\n",
        "\n",
        "使用方法 : np.xxxx\n",
        "\n",
        "sklearn(套件) \n",
        "\n",
        "使用方法 : sklearn.xxxx\n",
        "\n",
        "tensorflow(套件) tf(小名)\n",
        "\n",
        "使用方法 : tf.xxxx\n",
        "\n",
        "torch(套件) torch(小名)\n",
        "\n",
        "使用方法 : torcg.xxxx\n",
        "\n",
        "```\n",
        "\n",
        "# 認識軟體套件\n",
        "```\n",
        "\n",
        "pandas 資料分析函式庫\n",
        "\n",
        "matplotlib  Matplotlib是Python當中用來繪圖、圖表呈現及數據表示非常重要的一個Package\n",
        "\n",
        "numpy 在進行科學運算時 可整合C/C++及Fortran的程式碼 可定義任意的數據型態(Data Type)，使得能輕易及無縫的與多種資料庫整合\n",
        "\n",
        "\n",
        "sklearn 供大量常見的機器學習演算法和許多實用的資料集合\n",
        "\n",
        "tensorflow 是用於機器學習的端對端開放原始碼平台，由各式各樣的工具、程式庫和社群資源所組成，功能完善且具有彈性\n",
        "\n",
        "torch\n",
        "```"
      ]
    },
    {
      "cell_type": "code",
      "metadata": {
        "id": "88OIEOD08pJ5"
      },
      "source": [
        ""
      ],
      "execution_count": null,
      "outputs": []
    }
  ]
}